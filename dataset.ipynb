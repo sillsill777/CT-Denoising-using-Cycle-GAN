{
 "cells": [
  {
   "cell_type": "code",
   "execution_count": 5,
   "id": "16d8374a",
   "metadata": {},
   "outputs": [],
   "source": [
    "import torch\n",
    "from torchvision import transforms\n",
    "import random\n",
    "from torch.utils.data import Dataset,DataLoader\n",
    "import os\n",
    "import numpy as np"
   ]
  },
  {
   "cell_type": "code",
   "execution_count": 12,
   "id": "73aef303",
   "metadata": {},
   "outputs": [],
   "source": [
    "class makeDataset(Dataset):\n",
    "    def __init__(self,transform=None,mode='train',alignB=False,sameTransformB=False):\n",
    "        self.transform=transform\n",
    "        self.mode=mode\n",
    "        self.alignB=alignB\n",
    "        self.sameTransformB=sameTransformB\n",
    "        self.random_idxs=np.arange(1,self.__len__()+1)\n",
    "        np.random.shuffle(self.random_idxs)\n",
    "    def __len__(self):\n",
    "        if(self.mode=='train'):\n",
    "            return 3839\n",
    "        else:\n",
    "            return 421\n",
    "    def __getitem__(self,idx):\n",
    "        root=os.path.join('.','data_normalized',self.mode)\n",
    "        img_fd=torch.unsqueeze(torch.tensor(np.load(os.path.join(root,'fd','{}.npy'.format(idx+1)))),dim=0)\n",
    "        if self.alignB:\n",
    "            img_qd=torch.unsqueeze(torch.tensor(np.load(os.path.join(root,'qd','{}.npy'.format(idx+1)))),dim=0)\n",
    "        else:\n",
    "            random_idx=self.random_idxs[idx]\n",
    "            img_qd=torch.unsqueeze(torch.tensor(np.load(os.path.join(root,'qd','{}.npy'.format(random_idx)))),dim=0)\n",
    "        if self.transform is not None:\n",
    "            if self.sameTransformB:\n",
    "                seed=np.random.randint(2^31)\n",
    "                torch.manual_seed(seed)\n",
    "                img_fd=self.transform(img_fd)\n",
    "                torch.manual_seed(seed)\n",
    "                img_qd=self.transform(img_qd)\n",
    "            else:\n",
    "                img_fd=self.transform(img_fd)\n",
    "                img_qd=self.transform(img_qd)\n",
    "        return (img_fd,img_qd)"
   ]
  },
  {
   "cell_type": "code",
   "execution_count": null,
   "id": "f1342c10",
   "metadata": {},
   "outputs": [],
   "source": []
  }
 ],
 "metadata": {
  "kernelspec": {
   "display_name": "Python 3 (ipykernel)",
   "language": "python",
   "name": "python3"
  },
  "language_info": {
   "codemirror_mode": {
    "name": "ipython",
    "version": 3
   },
   "file_extension": ".py",
   "mimetype": "text/x-python",
   "name": "python",
   "nbconvert_exporter": "python",
   "pygments_lexer": "ipython3",
   "version": "3.9.7"
  }
 },
 "nbformat": 4,
 "nbformat_minor": 5
}
