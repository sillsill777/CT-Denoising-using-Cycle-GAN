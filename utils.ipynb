{
 "cells": [
  {
   "cell_type": "code",
   "execution_count": 1,
   "id": "b6e66591",
   "metadata": {},
   "outputs": [],
   "source": [
    "import torch\n",
    "import random"
   ]
  },
  {
   "cell_type": "code",
   "execution_count": 2,
   "id": "b6161c9b",
   "metadata": {},
   "outputs": [],
   "source": [
    "class Buffer():\n",
    "    def __init__(self,buffer_size=50):\n",
    "        self.buffer=[]\n",
    "        self.buffer_size=buffer_size\n",
    "        self.cur_size=0\n",
    "    def push_pop(self,image):\n",
    "        return_img=[]\n",
    "        for img in image.data:\n",
    "            img=torch.unsqueeze(img,0)\n",
    "            if self.cur_size<self.buffer_size:\n",
    "                self.cur_size+=1\n",
    "                return_img.append(img)\n",
    "                self.buffer.append(img)\n",
    "            else:\n",
    "                p=random.uniform(0,1)\n",
    "                if p>0.5:\n",
    "                    idx=random.randint(0,self.buffer_size-1)\n",
    "                    old_img=self.buffer[idx].clone()\n",
    "                    return_img.append(old_img)\n",
    "                    self.buffer[idx]=img\n",
    "                else:\n",
    "                    return_img.append(img)\n",
    "        return torch.cat(return_img,dim=0)"
   ]
  },
  {
   "cell_type": "code",
   "execution_count": null,
   "id": "7b64652b",
   "metadata": {},
   "outputs": [],
   "source": [
    "class LambdaLR():\n",
    "    def __init__(self, n_epochs, decay_start_epoch=None,offset=0):\n",
    "        \n",
    "        self.n_epochs = n_epochs\n",
    "        self.offset = offset\n",
    "        if decay_start_epoch is None:\n",
    "            self.decay_start_epoch=int(n_epochs/2)\n",
    "        else:\n",
    "            self.decay_start_epoch = decay_start_epoch\n",
    "\n",
    "    def step(self, epoch):\n",
    "        return 1.0 - max(0, epoch + self.offset - self.decay_start_epoch)/(self.n_epochs - self.decay_start_epoch)"
   ]
  }
 ],
 "metadata": {
  "kernelspec": {
   "display_name": "Python 3 (ipykernel)",
   "language": "python",
   "name": "python3"
  },
  "language_info": {
   "codemirror_mode": {
    "name": "ipython",
    "version": 3
   },
   "file_extension": ".py",
   "mimetype": "text/x-python",
   "name": "python",
   "nbconvert_exporter": "python",
   "pygments_lexer": "ipython3",
   "version": "3.9.7"
  }
 },
 "nbformat": 4,
 "nbformat_minor": 5
}
